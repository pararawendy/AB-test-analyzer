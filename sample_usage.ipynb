{
  "nbformat": 4,
  "nbformat_minor": 0,
  "metadata": {
    "colab": {
      "name": "sample_usage.ipynb",
      "provenance": []
    },
    "kernelspec": {
      "name": "python3",
      "display_name": "Python 3"
    },
    "language_info": {
      "name": "python"
    }
  },
  "cells": [
    {
      "cell_type": "markdown",
      "source": [
        "# Summary\n",
        "Sample usage of `ABTest` class to perform an A/B/C/D test analysis. Note that the data provided here is a **dummy** (non-real) data"
      ],
      "metadata": {
        "id": "Zcspxe85qvD7"
      }
    },
    {
      "cell_type": "markdown",
      "source": [
        "# Define/Retrieve `experiment_df` "
      ],
      "metadata": {
        "id": "hV6xoY1iq_Mn"
      }
    },
    {
      "cell_type": "code",
      "execution_count": null,
      "metadata": {
        "id": "nU396GWrqeHn"
      },
      "outputs": [],
      "source": [
        "import pandas as pd\n",
        "\n",
        "experiment_df = pd.DataFrame(\n",
        "    data = [\n",
        "            ['control','user',8333,1062],\n",
        "            ['variant1','user',8002,825],\n",
        "            ['variant2','user',8251,1289],\n",
        "            ['variant3','user',8275,1228]\n",
        "    ],\n",
        "    columns = ['experiment_group','metric_level','targeted','redeemed']\n",
        ")\n",
        "\n",
        "experiment_df"
      ]
    },
    {
      "cell_type": "markdown",
      "source": [
        "# Analyze using `ABTest` class"
      ],
      "metadata": {
        "id": "N3iqPbgeskEY"
      }
    },
    {
      "cell_type": "code",
      "source": [
        "from abtest import ABTest"
      ],
      "metadata": {
        "id": "oTTxXS0fsZih"
      },
      "execution_count": null,
      "outputs": []
    },
    {
      "cell_type": "code",
      "source": [
        "# init class\n",
        "abcd_test = ABTest(experiment_df, nominator_metric='redeemed', denominator_metric='targeted', platform='android')"
      ],
      "metadata": {
        "id": "IbEX1UXVs8b5"
      },
      "execution_count": null,
      "outputs": []
    },
    {
      "cell_type": "code",
      "source": [
        "# get reporting dataframe\n",
        "abcd_test.get_reporting_df(metric_level='user')"
      ],
      "metadata": {
        "id": "PNQkeCeitcmG"
      },
      "execution_count": null,
      "outputs": []
    },
    {
      "cell_type": "code",
      "source": [
        "# analyze\n",
        "abcd_test.analyze(metric_level='user', alpha=0.05)"
      ],
      "metadata": {
        "id": "Lu1ZXbfDtOir"
      },
      "execution_count": null,
      "outputs": []
    },
    {
      "cell_type": "code",
      "source": [
        "# calculate power\n",
        "abcd_test.calculate_power(practical_lift=0.01, alpha=0.05, metric_level='user')"
      ],
      "metadata": {
        "id": "2pFNwS_2tau9"
      },
      "execution_count": null,
      "outputs": []
    }
  ]
}